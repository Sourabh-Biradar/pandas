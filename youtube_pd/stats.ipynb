{
 "cells": [
  {
   "cell_type": "markdown",
   "id": "559ada46-b447-472f-87a7-b9a389dcf08d",
   "metadata": {},
   "source": [
    "**Stats Methods**"
   ]
  },
  {
   "cell_type": "code",
   "execution_count": 1,
   "id": "dde59cb0-c73b-41e8-b771-814dbcd37760",
   "metadata": {},
   "outputs": [],
   "source": [
    "import numpy as np\n",
    "import pandas as pd"
   ]
  },
  {
   "cell_type": "code",
   "execution_count": 8,
   "id": "76fe2d10-1ef4-42dc-bec9-e82c9cf278ba",
   "metadata": {},
   "outputs": [],
   "source": [
    "# nparray with random INT\n",
    "\n",
    "data = np.random.randint(11,50,size=(3,3))"
   ]
  },
  {
   "cell_type": "code",
   "execution_count": 9,
   "id": "8745df37-d663-472a-a489-6b0f3c59bfcb",
   "metadata": {},
   "outputs": [],
   "source": [
    "# DataFrame \n",
    "\n",
    "demodf = pd.DataFrame(data,columns=['x','y','z'])"
   ]
  },
  {
   "cell_type": "code",
   "execution_count": 11,
   "id": "28ffcc6a-fa62-47ad-9f65-c8fb16747691",
   "metadata": {},
   "outputs": [
    {
     "data": {
      "text/html": [
       "<div>\n",
       "<style scoped>\n",
       "    .dataframe tbody tr th:only-of-type {\n",
       "        vertical-align: middle;\n",
       "    }\n",
       "\n",
       "    .dataframe tbody tr th {\n",
       "        vertical-align: top;\n",
       "    }\n",
       "\n",
       "    .dataframe thead th {\n",
       "        text-align: right;\n",
       "    }\n",
       "</style>\n",
       "<table border=\"1\" class=\"dataframe\">\n",
       "  <thead>\n",
       "    <tr style=\"text-align: right;\">\n",
       "      <th></th>\n",
       "      <th>x</th>\n",
       "      <th>y</th>\n",
       "      <th>z</th>\n",
       "    </tr>\n",
       "  </thead>\n",
       "  <tbody>\n",
       "    <tr>\n",
       "      <th>0</th>\n",
       "      <td>47</td>\n",
       "      <td>22</td>\n",
       "      <td>28</td>\n",
       "    </tr>\n",
       "    <tr>\n",
       "      <th>1</th>\n",
       "      <td>38</td>\n",
       "      <td>49</td>\n",
       "      <td>43</td>\n",
       "    </tr>\n",
       "    <tr>\n",
       "      <th>2</th>\n",
       "      <td>39</td>\n",
       "      <td>23</td>\n",
       "      <td>23</td>\n",
       "    </tr>\n",
       "  </tbody>\n",
       "</table>\n",
       "</div>"
      ],
      "text/plain": [
       "    x   y   z\n",
       "0  47  22  28\n",
       "1  38  49  43\n",
       "2  39  23  23"
      ]
     },
     "execution_count": 11,
     "metadata": {},
     "output_type": "execute_result"
    }
   ],
   "source": [
    "demodf.head()"
   ]
  },
  {
   "cell_type": "code",
   "execution_count": 12,
   "id": "83115471-f27e-41b2-bd6d-637b0245aaad",
   "metadata": {},
   "outputs": [
    {
     "data": {
      "text/html": [
       "<div>\n",
       "<style scoped>\n",
       "    .dataframe tbody tr th:only-of-type {\n",
       "        vertical-align: middle;\n",
       "    }\n",
       "\n",
       "    .dataframe tbody tr th {\n",
       "        vertical-align: top;\n",
       "    }\n",
       "\n",
       "    .dataframe thead th {\n",
       "        text-align: right;\n",
       "    }\n",
       "</style>\n",
       "<table border=\"1\" class=\"dataframe\">\n",
       "  <thead>\n",
       "    <tr style=\"text-align: right;\">\n",
       "      <th></th>\n",
       "      <th>x</th>\n",
       "      <th>y</th>\n",
       "      <th>z</th>\n",
       "    </tr>\n",
       "  </thead>\n",
       "  <tbody>\n",
       "    <tr>\n",
       "      <th>count</th>\n",
       "      <td>3.000000</td>\n",
       "      <td>3.000000</td>\n",
       "      <td>3.000000</td>\n",
       "    </tr>\n",
       "    <tr>\n",
       "      <th>mean</th>\n",
       "      <td>41.333333</td>\n",
       "      <td>31.333333</td>\n",
       "      <td>31.333333</td>\n",
       "    </tr>\n",
       "    <tr>\n",
       "      <th>std</th>\n",
       "      <td>4.932883</td>\n",
       "      <td>15.307950</td>\n",
       "      <td>10.408330</td>\n",
       "    </tr>\n",
       "    <tr>\n",
       "      <th>min</th>\n",
       "      <td>38.000000</td>\n",
       "      <td>22.000000</td>\n",
       "      <td>23.000000</td>\n",
       "    </tr>\n",
       "    <tr>\n",
       "      <th>25%</th>\n",
       "      <td>38.500000</td>\n",
       "      <td>22.500000</td>\n",
       "      <td>25.500000</td>\n",
       "    </tr>\n",
       "    <tr>\n",
       "      <th>50%</th>\n",
       "      <td>39.000000</td>\n",
       "      <td>23.000000</td>\n",
       "      <td>28.000000</td>\n",
       "    </tr>\n",
       "    <tr>\n",
       "      <th>75%</th>\n",
       "      <td>43.000000</td>\n",
       "      <td>36.000000</td>\n",
       "      <td>35.500000</td>\n",
       "    </tr>\n",
       "    <tr>\n",
       "      <th>max</th>\n",
       "      <td>47.000000</td>\n",
       "      <td>49.000000</td>\n",
       "      <td>43.000000</td>\n",
       "    </tr>\n",
       "  </tbody>\n",
       "</table>\n",
       "</div>"
      ],
      "text/plain": [
       "               x          y          z\n",
       "count   3.000000   3.000000   3.000000\n",
       "mean   41.333333  31.333333  31.333333\n",
       "std     4.932883  15.307950  10.408330\n",
       "min    38.000000  22.000000  23.000000\n",
       "25%    38.500000  22.500000  25.500000\n",
       "50%    39.000000  23.000000  28.000000\n",
       "75%    43.000000  36.000000  35.500000\n",
       "max    47.000000  49.000000  43.000000"
      ]
     },
     "execution_count": 12,
     "metadata": {},
     "output_type": "execute_result"
    }
   ],
   "source": [
    "# describe()\n",
    "demodf.describe()"
   ]
  },
  {
   "cell_type": "code",
   "execution_count": 13,
   "id": "7cf89d96-6d2e-4424-bc34-c03e1b402eab",
   "metadata": {},
   "outputs": [
    {
     "data": {
      "text/plain": [
       "x    41.333333\n",
       "y    31.333333\n",
       "z    31.333333\n",
       "dtype: float64"
      ]
     },
     "execution_count": 13,
     "metadata": {},
     "output_type": "execute_result"
    }
   ],
   "source": [
    "# mean\n",
    "demodf.mean()"
   ]
  },
  {
   "cell_type": "code",
   "execution_count": 15,
   "id": "7815a142-18a0-4e17-a402-0be31d35a820",
   "metadata": {},
   "outputs": [
    {
     "data": {
      "text/html": [
       "<div>\n",
       "<style scoped>\n",
       "    .dataframe tbody tr th:only-of-type {\n",
       "        vertical-align: middle;\n",
       "    }\n",
       "\n",
       "    .dataframe tbody tr th {\n",
       "        vertical-align: top;\n",
       "    }\n",
       "\n",
       "    .dataframe thead th {\n",
       "        text-align: right;\n",
       "    }\n",
       "</style>\n",
       "<table border=\"1\" class=\"dataframe\">\n",
       "  <thead>\n",
       "    <tr style=\"text-align: right;\">\n",
       "      <th></th>\n",
       "      <th>x</th>\n",
       "      <th>y</th>\n",
       "      <th>z</th>\n",
       "    </tr>\n",
       "  </thead>\n",
       "  <tbody>\n",
       "    <tr>\n",
       "      <th>x</th>\n",
       "      <td>1.000000</td>\n",
       "      <td>-0.611379</td>\n",
       "      <td>-0.373306</td>\n",
       "    </tr>\n",
       "    <tr>\n",
       "      <th>y</th>\n",
       "      <td>-0.611379</td>\n",
       "      <td>1.000000</td>\n",
       "      <td>0.962362</td>\n",
       "    </tr>\n",
       "    <tr>\n",
       "      <th>z</th>\n",
       "      <td>-0.373306</td>\n",
       "      <td>0.962362</td>\n",
       "      <td>1.000000</td>\n",
       "    </tr>\n",
       "  </tbody>\n",
       "</table>\n",
       "</div>"
      ],
      "text/plain": [
       "          x         y         z\n",
       "x  1.000000 -0.611379 -0.373306\n",
       "y -0.611379  1.000000  0.962362\n",
       "z -0.373306  0.962362  1.000000"
      ]
     },
     "execution_count": 15,
     "metadata": {},
     "output_type": "execute_result"
    }
   ],
   "source": [
    "# corr : Pearson Correaltion\n",
    "demodf.corr()"
   ]
  },
  {
   "cell_type": "code",
   "execution_count": 18,
   "id": "dc7a8acd-17cc-4db8-9141-28112cdcd094",
   "metadata": {},
   "outputs": [
    {
     "data": {
      "text/plain": [
       "x    39.0\n",
       "y    23.0\n",
       "z    28.0\n",
       "dtype: float64"
      ]
     },
     "execution_count": 18,
     "metadata": {},
     "output_type": "execute_result"
    }
   ],
   "source": [
    "# median() : Middle value in the sorted data\n",
    "demodf.median()"
   ]
  },
  {
   "cell_type": "code",
   "execution_count": 19,
   "id": "e37ae1ec-ccc1-4a3d-ab37-acdf5c68f020",
   "metadata": {},
   "outputs": [
    {
     "data": {
      "text/plain": [
       "x     4.932883\n",
       "y    15.307950\n",
       "z    10.408330\n",
       "dtype: float64"
      ]
     },
     "execution_count": 19,
     "metadata": {},
     "output_type": "execute_result"
    }
   ],
   "source": [
    "# std(): Standard deviation measures the spread of data.\n",
    "demodf.std()"
   ]
  }
 ],
 "metadata": {
  "kernelspec": {
   "display_name": "Python 3 (ipykernel)",
   "language": "python",
   "name": "python3"
  },
  "language_info": {
   "codemirror_mode": {
    "name": "ipython",
    "version": 3
   },
   "file_extension": ".py",
   "mimetype": "text/x-python",
   "name": "python",
   "nbconvert_exporter": "python",
   "pygments_lexer": "ipython3",
   "version": "3.12.6"
  }
 },
 "nbformat": 4,
 "nbformat_minor": 5
}
