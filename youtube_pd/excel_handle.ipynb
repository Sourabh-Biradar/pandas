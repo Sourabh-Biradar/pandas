{
 "cells": [
  {
   "cell_type": "markdown",
   "id": "dcb83318-edc2-4a8c-af77-b45e3c8cfb88",
   "metadata": {},
   "source": [
    "**Handling Excel Sheet Using Pandas**"
   ]
  },
  {
   "cell_type": "code",
   "execution_count": 1,
   "id": "52db6d08-3767-4342-a0b8-ab45e4609bf7",
   "metadata": {},
   "outputs": [],
   "source": [
    "import numpy as np\n",
    "import pandas as pd"
   ]
  },
  {
   "cell_type": "code",
   "execution_count": null,
   "id": "a0a5aee5-1cb5-4287-8ea9-cce283b5283b",
   "metadata": {},
   "outputs": [],
   "source": [
    "# write df to excel\n",
    "\n",
    "pd."
   ]
  },
  {
   "cell_type": "code",
   "execution_count": null,
   "id": "85c9c8d8-660a-4e60-a701-74c88f740a7d",
   "metadata": {},
   "outputs": [],
   "source": [
    "# read excel\n",
    "\n",
    "pd.read_excel('trainData1.xlsx')"
   ]
  },
  {
   "cell_type": "code",
   "execution_count": null,
   "id": "5d2cae9f-7c21-4c75-bdb6-dc721cdef41c",
   "metadata": {},
   "outputs": [],
   "source": [
    "# read particular sheets from excel\n",
    "\n",
    "pd.read_excel('trainData1.xlsx',sheet_name='sheet name 2')"
   ]
  }
 ],
 "metadata": {
  "kernelspec": {
   "display_name": "Python 3 (ipykernel)",
   "language": "python",
   "name": "python3"
  },
  "language_info": {
   "codemirror_mode": {
    "name": "ipython",
    "version": 3
   },
   "file_extension": ".py",
   "mimetype": "text/x-python",
   "name": "python",
   "nbconvert_exporter": "python",
   "pygments_lexer": "ipython3",
   "version": "3.12.6"
  }
 },
 "nbformat": 4,
 "nbformat_minor": 5
}
