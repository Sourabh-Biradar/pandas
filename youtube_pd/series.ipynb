{
 "cells": [
  {
   "cell_type": "markdown",
   "id": "d785addf-183e-46e6-9ac5-904c7d095e87",
   "metadata": {},
   "source": [
    "**Series**"
   ]
  },
  {
   "cell_type": "code",
   "execution_count": 1,
   "id": "61eaffe2-f788-4fbd-9b27-ae80a017afa4",
   "metadata": {},
   "outputs": [],
   "source": [
    "# data structure in pandas : Series & DataFrame\n",
    "# Series : index + ONE row / column\n",
    "# DataFrame : index + one / multiple rows + one / multiple columns"
   ]
  },
  {
   "cell_type": "code",
   "execution_count": 2,
   "id": "214e81dc-d082-4e57-aa7d-b0f8480e6e53",
   "metadata": {},
   "outputs": [],
   "source": [
    "import numpy as np\n",
    "import pandas as pd"
   ]
  },
  {
   "cell_type": "code",
   "execution_count": 3,
   "id": "2de28302-a6cd-4053-b8b8-2385199f0189",
   "metadata": {},
   "outputs": [],
   "source": [
    "# create Series\n",
    "\n",
    "name = pd.Series()"
   ]
  },
  {
   "cell_type": "code",
   "execution_count": 4,
   "id": "d8b5b70e-f417-47f0-9ae8-900f5f55805b",
   "metadata": {},
   "outputs": [
    {
     "data": {
      "text/plain": [
       "pandas.core.series.Series"
      ]
     },
     "execution_count": 4,
     "metadata": {},
     "output_type": "execute_result"
    }
   ],
   "source": [
    "# check type \n",
    "\n",
    "type(name)"
   ]
  },
  {
   "cell_type": "code",
   "execution_count": 5,
   "id": "2f17b48b-2691-4e8b-a8b7-125c425c9de1",
   "metadata": {},
   "outputs": [],
   "source": [
    "# create Sereis with random values\n",
    "\n",
    "rndVals = pd.Series(np.random.rand(5))"
   ]
  },
  {
   "cell_type": "code",
   "execution_count": 6,
   "id": "1beeb58f-7fd4-4912-9d7b-30b0d97571e4",
   "metadata": {},
   "outputs": [
    {
     "data": {
      "text/plain": [
       "0    0.150444\n",
       "1    0.902464\n",
       "2    0.626475\n",
       "3    0.364308\n",
       "4    0.270016\n",
       "dtype: float64"
      ]
     },
     "execution_count": 6,
     "metadata": {},
     "output_type": "execute_result"
    }
   ],
   "source": [
    "# read \n",
    "\n",
    "rndVals"
   ]
  },
  {
   "cell_type": "code",
   "execution_count": null,
   "id": "75ca5566-9c8b-4f73-94c9-a9bf309c1b18",
   "metadata": {},
   "outputs": [],
   "source": []
  }
 ],
 "metadata": {
  "kernelspec": {
   "display_name": "Python 3 (ipykernel)",
   "language": "python",
   "name": "python3"
  },
  "language_info": {
   "codemirror_mode": {
    "name": "ipython",
    "version": 3
   },
   "file_extension": ".py",
   "mimetype": "text/x-python",
   "name": "python",
   "nbconvert_exporter": "python",
   "pygments_lexer": "ipython3",
   "version": "3.12.6"
  }
 },
 "nbformat": 4,
 "nbformat_minor": 5
}
