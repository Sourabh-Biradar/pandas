{
 "cells": [
  {
   "cell_type": "code",
   "execution_count": 1,
   "id": "3cde3a64-8b75-4d3c-b0cd-0516a684cd6b",
   "metadata": {},
   "outputs": [],
   "source": [
    "import numpy as np\n",
    "import pandas as pd"
   ]
  },
  {
   "cell_type": "code",
   "execution_count": 2,
   "id": "109e375d-20ba-4392-b2b0-2ee2102980a1",
   "metadata": {},
   "outputs": [],
   "source": [
    "siblings = {\n",
    "    \"name\" : ['Abc','Efg','Hij'],\n",
    "    \"marks\": [42,33,17],\n",
    "    \"class\": [\"4th\",\"2nd\",\"6th\"]\n",
    "}"
   ]
  },
  {
   "cell_type": "code",
   "execution_count": 3,
   "id": "56601ac3-3388-41e9-9280-04387e8b4d0b",
   "metadata": {},
   "outputs": [
    {
     "name": "stdout",
     "output_type": "stream",
     "text": [
      "  name  marks class\n",
      "0  Abc     42   4th\n",
      "1  Efg     33   2nd\n",
      "2  Hij     17   6th\n"
     ]
    }
   ],
   "source": [
    "# DataFrame : 2-D, size-mutable, tabular data structure\n",
    "\n",
    "df = pd.DataFrame(siblings)\n",
    "\n",
    "print(df)"
   ]
  },
  {
   "cell_type": "code",
   "execution_count": 4,
   "id": "64ac624d-6775-48ec-99d6-4d01a2e47523",
   "metadata": {},
   "outputs": [],
   "source": [
    "# to_csv() : exports as .csv\n",
    "\n",
    "df.to_csv('siblingsMarks')"
   ]
  },
  {
   "cell_type": "code",
   "execution_count": 5,
   "id": "7a436334-4b46-4de5-834d-8cecc87a73a3",
   "metadata": {},
   "outputs": [],
   "source": [
    "# no index\n",
    "\n",
    "df.to_csv('marks',index=False)"
   ]
  },
  {
   "cell_type": "code",
   "execution_count": 8,
   "id": "17fe21b7-8a26-4860-9064-3da3090321a0",
   "metadata": {},
   "outputs": [
    {
     "data": {
      "text/html": [
       "<div>\n",
       "<style scoped>\n",
       "    .dataframe tbody tr th:only-of-type {\n",
       "        vertical-align: middle;\n",
       "    }\n",
       "\n",
       "    .dataframe tbody tr th {\n",
       "        vertical-align: top;\n",
       "    }\n",
       "\n",
       "    .dataframe thead th {\n",
       "        text-align: right;\n",
       "    }\n",
       "</style>\n",
       "<table border=\"1\" class=\"dataframe\">\n",
       "  <thead>\n",
       "    <tr style=\"text-align: right;\">\n",
       "      <th></th>\n",
       "      <th>name</th>\n",
       "      <th>marks</th>\n",
       "      <th>class</th>\n",
       "    </tr>\n",
       "  </thead>\n",
       "  <tbody>\n",
       "    <tr>\n",
       "      <th>0</th>\n",
       "      <td>Abc</td>\n",
       "      <td>42</td>\n",
       "      <td>4th</td>\n",
       "    </tr>\n",
       "    <tr>\n",
       "      <th>1</th>\n",
       "      <td>Efg</td>\n",
       "      <td>33</td>\n",
       "      <td>2nd</td>\n",
       "    </tr>\n",
       "  </tbody>\n",
       "</table>\n",
       "</div>"
      ],
      "text/plain": [
       "  name  marks class\n",
       "0  Abc     42   4th\n",
       "1  Efg     33   2nd"
      ]
     },
     "execution_count": 8,
     "metadata": {},
     "output_type": "execute_result"
    }
   ],
   "source": [
    "# first rows\n",
    "\n",
    "df.head(2) # only first TWO rows"
   ]
  },
  {
   "cell_type": "code",
   "execution_count": 9,
   "id": "27d22162-d857-40a4-ab56-9c464cb4918d",
   "metadata": {},
   "outputs": [
    {
     "data": {
      "text/html": [
       "<div>\n",
       "<style scoped>\n",
       "    .dataframe tbody tr th:only-of-type {\n",
       "        vertical-align: middle;\n",
       "    }\n",
       "\n",
       "    .dataframe tbody tr th {\n",
       "        vertical-align: top;\n",
       "    }\n",
       "\n",
       "    .dataframe thead th {\n",
       "        text-align: right;\n",
       "    }\n",
       "</style>\n",
       "<table border=\"1\" class=\"dataframe\">\n",
       "  <thead>\n",
       "    <tr style=\"text-align: right;\">\n",
       "      <th></th>\n",
       "      <th>name</th>\n",
       "      <th>marks</th>\n",
       "      <th>class</th>\n",
       "    </tr>\n",
       "  </thead>\n",
       "  <tbody>\n",
       "    <tr>\n",
       "      <th>1</th>\n",
       "      <td>Efg</td>\n",
       "      <td>33</td>\n",
       "      <td>2nd</td>\n",
       "    </tr>\n",
       "    <tr>\n",
       "      <th>2</th>\n",
       "      <td>Hij</td>\n",
       "      <td>17</td>\n",
       "      <td>6th</td>\n",
       "    </tr>\n",
       "  </tbody>\n",
       "</table>\n",
       "</div>"
      ],
      "text/plain": [
       "  name  marks class\n",
       "1  Efg     33   2nd\n",
       "2  Hij     17   6th"
      ]
     },
     "execution_count": 9,
     "metadata": {},
     "output_type": "execute_result"
    }
   ],
   "source": [
    "# last rows \n",
    "\n",
    "df.tail(2) # only last TWO rows"
   ]
  },
  {
   "cell_type": "code",
   "execution_count": 12,
   "id": "f4f52047-c62e-4334-8185-1ea91a16710b",
   "metadata": {},
   "outputs": [
    {
     "data": {
      "text/html": [
       "<div>\n",
       "<style scoped>\n",
       "    .dataframe tbody tr th:only-of-type {\n",
       "        vertical-align: middle;\n",
       "    }\n",
       "\n",
       "    .dataframe tbody tr th {\n",
       "        vertical-align: top;\n",
       "    }\n",
       "\n",
       "    .dataframe thead th {\n",
       "        text-align: right;\n",
       "    }\n",
       "</style>\n",
       "<table border=\"1\" class=\"dataframe\">\n",
       "  <thead>\n",
       "    <tr style=\"text-align: right;\">\n",
       "      <th></th>\n",
       "      <th>marks</th>\n",
       "    </tr>\n",
       "  </thead>\n",
       "  <tbody>\n",
       "    <tr>\n",
       "      <th>count</th>\n",
       "      <td>3.000000</td>\n",
       "    </tr>\n",
       "    <tr>\n",
       "      <th>mean</th>\n",
       "      <td>30.666667</td>\n",
       "    </tr>\n",
       "    <tr>\n",
       "      <th>std</th>\n",
       "      <td>12.662280</td>\n",
       "    </tr>\n",
       "    <tr>\n",
       "      <th>min</th>\n",
       "      <td>17.000000</td>\n",
       "    </tr>\n",
       "    <tr>\n",
       "      <th>25%</th>\n",
       "      <td>25.000000</td>\n",
       "    </tr>\n",
       "    <tr>\n",
       "      <th>50%</th>\n",
       "      <td>33.000000</td>\n",
       "    </tr>\n",
       "    <tr>\n",
       "      <th>75%</th>\n",
       "      <td>37.500000</td>\n",
       "    </tr>\n",
       "    <tr>\n",
       "      <th>max</th>\n",
       "      <td>42.000000</td>\n",
       "    </tr>\n",
       "  </tbody>\n",
       "</table>\n",
       "</div>"
      ],
      "text/plain": [
       "           marks\n",
       "count   3.000000\n",
       "mean   30.666667\n",
       "std    12.662280\n",
       "min    17.000000\n",
       "25%    25.000000\n",
       "50%    33.000000\n",
       "75%    37.500000\n",
       "max    42.000000"
      ]
     },
     "execution_count": 12,
     "metadata": {},
     "output_type": "execute_result"
    }
   ],
   "source": [
    "# count, mean, std., min, max ... (only for numerical value column)\n",
    "\n",
    "df.describe()"
   ]
  },
  {
   "cell_type": "code",
   "execution_count": 14,
   "id": "147aa29c-8029-4852-8ce3-bcf654b27d82",
   "metadata": {},
   "outputs": [
    {
     "data": {
      "text/html": [
       "<div>\n",
       "<style scoped>\n",
       "    .dataframe tbody tr th:only-of-type {\n",
       "        vertical-align: middle;\n",
       "    }\n",
       "\n",
       "    .dataframe tbody tr th {\n",
       "        vertical-align: top;\n",
       "    }\n",
       "\n",
       "    .dataframe thead th {\n",
       "        text-align: right;\n",
       "    }\n",
       "</style>\n",
       "<table border=\"1\" class=\"dataframe\">\n",
       "  <thead>\n",
       "    <tr style=\"text-align: right;\">\n",
       "      <th></th>\n",
       "      <th>Train no.</th>\n",
       "      <th>From</th>\n",
       "      <th>To</th>\n",
       "    </tr>\n",
       "  </thead>\n",
       "  <tbody>\n",
       "    <tr>\n",
       "      <th>0</th>\n",
       "      <td>11011</td>\n",
       "      <td>BLR</td>\n",
       "      <td>JNK</td>\n",
       "    </tr>\n",
       "    <tr>\n",
       "      <th>1</th>\n",
       "      <td>22333</td>\n",
       "      <td>KLG</td>\n",
       "      <td>UDP</td>\n",
       "    </tr>\n",
       "    <tr>\n",
       "      <th>2</th>\n",
       "      <td>100</td>\n",
       "      <td>PUN</td>\n",
       "      <td>KNK</td>\n",
       "    </tr>\n",
       "    <tr>\n",
       "      <th>3</th>\n",
       "      <td>67800</td>\n",
       "      <td>TMN</td>\n",
       "      <td>WSB</td>\n",
       "    </tr>\n",
       "    <tr>\n",
       "      <th>4</th>\n",
       "      <td>91432</td>\n",
       "      <td>MYR</td>\n",
       "      <td>DHL</td>\n",
       "    </tr>\n",
       "  </tbody>\n",
       "</table>\n",
       "</div>"
      ],
      "text/plain": [
       "   Train no.   From    To\n",
       "0       11011    BLR  JNK\n",
       "1       22333    KLG  UDP\n",
       "2         100    PUN  KNK\n",
       "3       67800    TMN  WSB\n",
       "4       91432    MYR  DHL"
      ]
     },
     "execution_count": 14,
     "metadata": {},
     "output_type": "execute_result"
    }
   ],
   "source": [
    "# read from csv \n",
    "\n",
    "var = pd.read_csv('filename.csv')\n",
    "var"
   ]
  },
  {
   "cell_type": "code",
   "execution_count": 21,
   "id": "42980ecb-995c-452e-a36a-a6f3abea45fe",
   "metadata": {},
   "outputs": [
    {
     "data": {
      "text/plain": [
       "Index(['Train no. ', ' From ', ' To'], dtype='object')"
      ]
     },
     "execution_count": 21,
     "metadata": {},
     "output_type": "execute_result"
    }
   ],
   "source": [
    "# get ALL columns\n",
    "\n",
    "var.columns"
   ]
  },
  {
   "cell_type": "code",
   "execution_count": 30,
   "id": "cbb20537-06b0-4f02-8501-0c1e1da6d1d4",
   "metadata": {},
   "outputs": [
    {
     "data": {
      "text/plain": [
       "0    BLR\n",
       "1    KLG\n",
       "2    PUN\n",
       "3    TMN\n",
       "4    MYR\n",
       "Name:  From , dtype: object"
      ]
     },
     "execution_count": 30,
     "metadata": {},
     "output_type": "execute_result"
    }
   ],
   "source": [
    "# get ONE column\n",
    "\n",
    "var[' From ']"
   ]
  },
  {
   "cell_type": "code",
   "execution_count": 31,
   "id": "2f067e04-28d0-4410-8d4c-3ca4a1161a32",
   "metadata": {},
   "outputs": [
    {
     "data": {
      "text/plain": [
       "'TMN'"
      ]
     },
     "execution_count": 31,
     "metadata": {},
     "output_type": "execute_result"
    }
   ],
   "source": [
    "# read one ROW [using index]\n",
    "\n",
    "var[' From '][3]"
   ]
  },
  {
   "cell_type": "code",
   "execution_count": 43,
   "id": "db4420f2-2d96-415c-a0af-b9cbd7dd3ccc",
   "metadata": {},
   "outputs": [],
   "source": [
    "# update single value \n",
    "# at[]\n",
    "# loc[] : location\n",
    "\n",
    "var.at[4,'Train no.'] = 99432"
   ]
  },
  {
   "cell_type": "code",
   "execution_count": 44,
   "id": "3566d296-27e7-45d8-a397-6192320c38d0",
   "metadata": {},
   "outputs": [],
   "source": [
    "# save updated csv (same as export)\n",
    "\n",
    "var.to_csv('Train_info.csv')"
   ]
  },
  {
   "cell_type": "code",
   "execution_count": 46,
   "id": "3b63b2cf-e305-48eb-b013-ee7683f47fc8",
   "metadata": {},
   "outputs": [],
   "source": [
    "# change index\n",
    "\n",
    "var.index = ['zero' , 'one' , 'two',3,4]"
   ]
  },
  {
   "cell_type": "code",
   "execution_count": null,
   "id": "e162502f-a6c7-4617-9c4d-394ace9f2ac9",
   "metadata": {},
   "outputs": [],
   "source": []
  }
 ],
 "metadata": {
  "kernelspec": {
   "display_name": "Python 3 (ipykernel)",
   "language": "python",
   "name": "python3"
  },
  "language_info": {
   "codemirror_mode": {
    "name": "ipython",
    "version": 3
   },
   "file_extension": ".py",
   "mimetype": "text/x-python",
   "name": "python",
   "nbconvert_exporter": "python",
   "pygments_lexer": "ipython3",
   "version": "3.12.6"
  }
 },
 "nbformat": 4,
 "nbformat_minor": 5
}
