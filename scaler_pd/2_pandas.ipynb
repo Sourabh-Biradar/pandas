{
 "cells": [
  {
   "cell_type": "code",
   "execution_count": 18,
   "id": "9850555d-ffeb-40a5-b86e-e2ea029db20b",
   "metadata": {},
   "outputs": [],
   "source": [
    "# pandas\n",
    "\n",
    "# save as csv file\n",
    "\n",
    "import pandas as pd\n",
    "\n",
    "weather_data = [\n",
    "    ('2025-05-01', 'New York', 18, 'Sunny'),\n",
    "    ('2025-05-01', 'Los Angeles', 22, 'Cloudy'),\n",
    "    ('2025-05-01', 'Chicago', 15, 'Rainy'),\n",
    "    ('2025-05-01', 'Houston', 28, 'Sunny'),\n",
    "    ('2025-05-01', 'Phoenix', 33, 'Hot'),\n",
    "    ('2025-05-02', 'Seattle', 16, 'Cloudy'),\n",
    "    ('2025-05-02', 'Miami', 29, 'Sunny'),\n",
    "    ('2025-05-02', 'Denver', 14, 'Snow'),\n",
    "    ('2025-05-02', 'Boston', 17, 'Windy'),\n",
    "    ('2025-05-02', 'San Francisco', 19, 'Foggy'),\n",
    "    ('2025-05-03', 'Las Vegas', 32, 'Hot'),\n",
    "    ('2025-05-03', 'Atlanta', 25, 'Rainy'),\n",
    "    ('2025-05-03', 'Dallas', 27, 'Sunny'),\n",
    "    ('2025-05-03', 'Philadelphia', 20, 'Cloudy'),\n",
    "    ('2025-05-03', 'Orlando', 30, 'Sunny'),\n",
    "    ('2025-05-04', 'Detroit', 13, 'Rainy'),\n",
    "    ('2025-05-04', 'San Diego', 21, 'Sunny'),\n",
    "    ('2025-05-04', 'Minneapolis', 12, 'Snow'),\n",
    "    ('2025-05-04', 'Portland', 15, 'Cloudy'),\n",
    "    ('2025-05-04', 'Austin', 26, 'Humid')\n",
    "]\n",
    "\n",
    "df = pd.DataFrame(weather_data)\n",
    "df.columns=['Date','City','Temp','Event']\n",
    "\n",
    "df.to_csv('weather_data.csv',index=False)"
   ]
  }
 ],
 "metadata": {
  "kernelspec": {
   "display_name": "Python [conda env:base] *",
   "language": "python",
   "name": "conda-base-py"
  },
  "language_info": {
   "codemirror_mode": {
    "name": "ipython",
    "version": 3
   },
   "file_extension": ".py",
   "mimetype": "text/x-python",
   "name": "python",
   "nbconvert_exporter": "python",
   "pygments_lexer": "ipython3",
   "version": "3.12.7"
  }
 },
 "nbformat": 4,
 "nbformat_minor": 5
}
